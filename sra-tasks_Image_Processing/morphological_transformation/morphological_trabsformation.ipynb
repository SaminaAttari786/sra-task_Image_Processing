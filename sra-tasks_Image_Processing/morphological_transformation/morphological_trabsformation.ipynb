{
 "cells": [
  {
   "cell_type": "code",
   "execution_count": 1,
   "metadata": {},
   "outputs": [
    {
     "name": "stdout",
     "output_type": "stream",
     "text": [
      "Enter 1 for erosion and 2 for dilation\n",
      " 1)Erosion\n",
      " 2)Dilation1\n"
     ]
    },
    {
     "data": {
      "image/png": "[encoded data removed]",
      "text/plain": [
       "<Figure size 432x288 with 1 Axes>"
      ]
     },
     "metadata": {
      "needs_background": "light"
     },
     "output_type": "display_data"
    }
   ],
   "source": [
    "import numpy as np\n",
    "import matplotlib.pyplot as plt\n",
    "import math\n",
    "\n",
    "def applyPadding(array):\n",
    "    new = np.ones((array.shape[0]+4,array.shape[1]+4,array.shape[2]),dtype = array.dtype)\n",
    "    for s in range(array.shape[2]):\n",
    "        for i in range(array.shape[0]):\n",
    "            for j in range(array.shape[1]):\n",
    "                new[i+2,j+2,s] = array[i,j,s]\n",
    "    return new\n",
    "\n",
    "\n",
    "\n",
    "def dilation(matrix,option):\n",
    "  kernel = np.zeros((5,5,1),dtype = matrix.dtype)\n",
    "  filtered = np.zeros((matrix.shape[0],matrix.shape[1],matrix.shape[2]),dtype = matrix.dtype)\n",
    "  padded = applyPadding(matrix)\n",
    "  for c in range(4):\n",
    "    for i in range(matrix.shape[0]):\n",
    "      for j in range(matrix.shape[1]):\n",
    "        for x in range(5):\n",
    "          for y in range(5):\n",
    "            kernel[y,x] = padded[i+y,j+x,c]\n",
    "        if 1 in kernel and option == 2:\n",
    "          filtered[i,j,c] = 1\n",
    "        elif np.all(kernel) and option == 1:\n",
    "          filtered[i,j,c] = 1\n",
    "        else:\n",
    "          filtered[i,j,c] = 0\n",
    "  return filtered\n",
    "\n",
    "#print('matrix',matrix)              \n",
    "image = plt.imread(r'C:\\Users\\Attari2\\Downloads\\Morphological_Transformation.png')\n",
    "option = int(input('Enter 1 for erosion and 2 for dilation\\n 1)Erosion\\n 2)Dilation'))\n",
    "filtered1 = dilation(image,1)\n",
    "filtered2 = dilation(image,2)\n",
    "if option==1:\n",
    "   plt.imshow(filtered1)\n",
    "   plt.title(\"Erosion\")\n",
    "   plt.show()\n",
    "if option==2:\n",
    "   plt.imshow(filtered2)\n",
    "   plt.title(\"Dilation\")\n",
    "   plt.show()"
   ]
  },
  {
   "cell_type": "code",
   "execution_count": 1,
   "metadata": {},
   "outputs": [
    {
     "name": "stdout",
     "output_type": "stream",
     "text": [
      "Enter 1 for erosion and 2 for dilation\n",
      " 1)Erosion\n",
      " 2)Dilation2\n"
     ]
    },
    {
     "data": {
      "image/png": "[encoded data removed]",
      "text/plain": [
       "<Figure size 432x288 with 1 Axes>"
      ]
     },
     "metadata": {
      "needs_background": "light"
     },
     "output_type": "display_data"
    }
   ],
   "source": [
    "import numpy as np\n",
    "import matplotlib.pyplot as plt\n",
    "import math\n",
    "\n",
    "def applyPadding(array):\n",
    "    new = np.ones((array.shape[0]+4,array.shape[1]+4,array.shape[2]),dtype = array.dtype)\n",
    "    for s in range(array.shape[2]):\n",
    "        for i in range(array.shape[0]):\n",
    "            for j in range(array.shape[1]):\n",
    "                new[i+2,j+2,s] = array[i,j,s]\n",
    "    return new\n",
    "\n",
    "\n",
    "\n",
    "def dilation(matrix,option):\n",
    "  kernel = np.zeros((5,5,1),dtype = matrix.dtype)\n",
    "  filtered = np.zeros((matrix.shape[0],matrix.shape[1],matrix.shape[2]),dtype = matrix.dtype)\n",
    "  padded = applyPadding(matrix)\n",
    "  for c in range(4):\n",
    "    for i in range(matrix.shape[0]):\n",
    "      for j in range(matrix.shape[1]):\n",
    "        for x in range(5):\n",
    "          for y in range(5):\n",
    "            kernel[y,x] = padded[i+y,j+x,c]\n",
    "        if 1 in kernel and option == 2:\n",
    "          filtered[i,j,c] = 1\n",
    "        elif np.all(kernel) and option == 1:\n",
    "          filtered[i,j,c] = 1\n",
    "        else:\n",
    "          filtered[i,j,c] = 0\n",
    "  return filtered\n",
    "\n",
    "#print('matrix',matrix)              \n",
    "image = plt.imread(r'C:\\Users\\Attari2\\Downloads\\Morphological_Transformation.png')\n",
    "option = int(input('Enter 1 for erosion and 2 for dilation\\n 1)Erosion\\n 2)Dilation'))\n",
    "filtered1 = dilation(image,1)\n",
    "filtered2 = dilation(image,2)\n",
    "if option==1:\n",
    "   plt.imshow(filtered1)\n",
    "   plt.title(\"Erosion\")\n",
    "   plt.show()\n",
    "if option==2:\n",
    "   plt.imshow(filtered2)\n",
    "   plt.title(\"Dilation\")\n",
    "   plt.show()"
   ]
  },
  {
   "cell_type": "code",
   "execution_count": null,
   "metadata": {},
   "outputs": [],
   "source": []
  }
 ],
 "metadata": {
  "kernelspec": {
   "display_name": "Python 3",
   "language": "python",
   "name": "python3"
  },
  "language_info": {
   "codemirror_mode": {
    "name": "ipython",
    "version": 3
   },
   "file_extension": ".py",
   "mimetype": "text/x-python",
   "name": "python",
   "nbconvert_exporter": "python",
   "pygments_lexer": "ipython3",
   "version": "3.7.6"
  }
 },
 "nbformat": 4,
 "nbformat_minor": 4
}
