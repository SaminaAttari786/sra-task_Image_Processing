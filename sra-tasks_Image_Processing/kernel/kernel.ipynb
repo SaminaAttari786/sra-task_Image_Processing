{
 "cells": [
  {
   "cell_type": "code",
   "execution_count": 37,
   "metadata": {},
   "outputs": [],
   "source": [
    "from PIL import Image\n",
    "%matplotlib inline\n",
    "import matplotlib.pyplot as plt\n",
    "import numpy as np"
   ]
  },
  {
   "cell_type": "code",
   "execution_count": 38,
   "metadata": {},
   "outputs": [],
   "source": [
    "im = Image.open(r\"C:\\Users\\Attari2\\Untitled Folder\\kernel.png\")\n",
    "arr= np.array(im)"
   ]
  },
  {
   "cell_type": "code",
   "execution_count": 39,
   "metadata": {},
   "outputs": [],
   "source": [
    "averageblur_kernel = np.array([[1 / 25, 1 / 25, 1 / 25, 1 / 25, 1 / 25],\n",
    "                                [1 / 25, 1 / 25, 1 / 25, 1 / 25, 1 / 25],\n",
    "                                [1 / 25, 1 / 25, 1 / 25, 1 / 25, 1 / 25],\n",
    "                                [1 / 25, 1 / 25, 1 / 25, 1 / 25, 1 / 25],\n",
    "                                [1 / 25, 1 / 25, 1 / 25, 1 / 25, 1 / 25]])\n",
    "\n",
    "gaussian_blur_kernel = np.array([[1 / 256, 4  / 256,  6 / 256,  4 / 256, 1 / 256],\n",
    "                                [4 / 256, 16 / 256, 24 / 256, 16 / 256, 4 / 256],\n",
    "                                [6 / 256, 24 / 256, 36 / 256, 24 / 256, 6 / 256],\n",
    "                                [4 / 256, 16 / 256, 24 / 256, 16 / 256, 4 / 256],\n",
    "                                [1 / 256, 4  / 256,  6 / 256,  4 / 256, 1 / 256]])\n",
    "\n",
    "sharpening_kernel = sharpening_kernel = np.array([[-1, -1, -1],[-1, 9, -1],[-1, -1, -1]])\n",
    "## Function to apply any kernel to the image input\n",
    "def apply_filter(arr, filt):\n",
    "    filt = np.reshape(filt,(filt.shape[0],filt.shape[1],1))\n",
    "    filter_size = filt.shape[0]\n",
    "    ret = np.zeros((arr.shape[0]-filter_size +1,arr.shape[1]-filter_size +1,4))\n",
    "    \n",
    "    for i in range(ret.shape[0]):\n",
    "        for j in range(ret.shape[1]):\n",
    "            ret[i,j,:] = np.round(np.sum(np.sum(arr[i:i+filter_size,j:j+filter_size,:]*filt,axis=0,keepdims=True),axis=1,keepdims=True))\n",
    "        \n",
    "    ret = ret.astype('int')\n",
    "    return ret"
   ]
  },
  {
   "cell_type": "code",
   "execution_count": 40,
   "metadata": {},
   "outputs": [],
   "source": [
    "averageblur_image = Image.fromarray(np.uint8(apply_filter(arr, averageblur_kernel)))\n",
    "gauss_blur_image = Image.fromarray(np.uint8(apply_filter(arr, gaussian_blur_kernel)))\n",
    "sharpened_image = Image.fromarray(np.uint8(apply_filter(arr, sharpening_kernel)))"
   ]
  },
  {
   "cell_type": "code",
   "execution_count": 41,
   "metadata": {},
   "outputs": [],
   "source": [
    "averageblur_image.show()\n",
    "gauss_blur_image.show()\n",
    "sharpened_image.show()\n",
    "averageblur_image.save(\"average blur.png\")\n",
    "gauss_blur_image.save(\"gauss blur.png\")\n",
    "sharpened_image.save(\"sharpen.png\")"
   ]
  },
  {
   "cell_type": "code",
   "execution_count": null,
   "metadata": {},
   "outputs": [],
   "source": []
  }
 ],
 "metadata": {
  "kernelspec": {
   "display_name": "Python 3",
   "language": "python",
   "name": "python3"
  },
  "language_info": {
   "codemirror_mode": {
    "name": "ipython",
    "version": 3
   },
   "file_extension": ".py",
   "mimetype": "text/x-python",
   "name": "python",
   "nbconvert_exporter": "python",
   "pygments_lexer": "ipython3",
   "version": "3.7.6"
  }
 },
 "nbformat": 4,
 "nbformat_minor": 4
}
